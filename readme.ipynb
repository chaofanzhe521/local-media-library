{
 "cells": [
  {
   "cell_type": "markdown",
   "id": "2e2de366",
   "metadata": {},
   "source": [
    "media_library/<br>\n",
    "├── app.py             <br>\n",
    "├── media_data.db      <br>\n",
    "├── static/<br>\n",
    "│   ├── css/style.css<br>\n",
    "│   └── js/main.js<br>\n",
    "└── templates/<br>\n",
    "    ├── index.html     <br>\n",
    "    └── manage.html    "
   ]
  },
  {
   "cell_type": "markdown",
   "id": "4a889a3a",
   "metadata": {},
   "source": [
    "app.py负责：<br>\n",
    "~提供前端页面 (index.html 和 manage.html)。<br>\n",
    "~提供 API 接口，让前端可以获取数据、添加新媒体、更新标签等。<br>\n",
    "~实现一个巧妙的功能：在后端弹出文件选择对话框，解决前端无法获取本地完整路径的问题。"
   ]
  },
  {
   "cell_type": "markdown",
   "id": "9bc3f1bc",
   "metadata": {},
   "source": [
    "运行 pyinstaller --onefile --windowed --add-data \"templates;templates\" --add-data \"static;static\" app.py"
   ]
  },
  {
   "cell_type": "markdown",
   "id": "5ba2612d",
   "metadata": {},
   "source": [
    "修改代码后重新生成exe，需要清理旧的打包文件——<br>\n",
    "dist/ (文件夹): 这是存放最终 .exe 的地方。<br>\n",
    "build/ (文件夹): 这是打包过程中的临时文件。<br>\n",
    "app.spec (文件): 这是 pyinstaller 的配置文件。"
   ]
  }
 ],
 "metadata": {
  "kernelspec": {
   "display_name": "py311",
   "language": "python",
   "name": "python3"
  },
  "language_info": {
   "codemirror_mode": {
    "name": "ipython",
    "version": 3
   },
   "file_extension": ".py",
   "mimetype": "text/x-python",
   "name": "python",
   "nbconvert_exporter": "python",
   "pygments_lexer": "ipython3",
   "version": "3.11.10"
  }
 },
 "nbformat": 4,
 "nbformat_minor": 5
}
